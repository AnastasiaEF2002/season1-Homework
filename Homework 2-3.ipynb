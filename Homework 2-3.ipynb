{
 "cells": [
  {
   "cell_type": "markdown",
   "id": "e55296e3",
   "metadata": {},
   "source": [
    "ДЗ2\n",
    "1) Сделайте так, чтобы число секунд отображалось в виде дни:часы:минуты:секунды."
   ]
  },
  {
   "cell_type": "code",
   "execution_count": 31,
   "id": "166844eb",
   "metadata": {},
   "outputs": [
    {
     "name": "stdout",
     "output_type": "stream",
     "text": [
      "2:46:40\n"
     ]
    }
   ],
   "source": [
    "import datetime\n",
    "\n",
    "seconds=10000\n",
    "\n",
    "def convert_seconds(seconds):\n",
    "    return str(datetime.timedelta(seconds=seconds))\n",
    "\n",
    "print(convert_seconds(seconds))"
   ]
  },
  {
   "cell_type": "markdown",
   "id": "c0873c5d",
   "metadata": {},
   "source": [
    "2) Напишите калькулятор который запрашивает на входе две переменные и знак, и в соответствии с знаком ( + - * / ) выводит результат"
   ]
  },
  {
   "cell_type": "code",
   "execution_count": 8,
   "id": "a8e6f94c",
   "metadata": {},
   "outputs": [
    {
     "name": "stdout",
     "output_type": "stream",
     "text": [
      "23\n",
      "234\n",
      "*\n",
      "5382\n"
     ]
    }
   ],
   "source": [
    "num1=input()\n",
    "num2=input()\n",
    "operation = input()\n",
    "num1=int(num1)\n",
    "num2=int(num2)\n",
    "\n",
    "if operation == '+':\n",
    "    print(num1+num2)\n",
    "elif operation == '-':\n",
    "    print(num1-num2)\n",
    "elif operation == '/':\n",
    "    print(num1/num2)\n",
    "elif operation == '*':\n",
    "    print(num1*num2)\n",
    "else:\n",
    "    print('Error!')"
   ]
  },
  {
   "cell_type": "markdown",
   "id": "f9b78d2e",
   "metadata": {},
   "source": [
    "3)Считайте 2 строки и выведите их на печать, разделив символом $.\n",
    "Попробуйте решить эту задачу как минимум 2 способами:\n",
    "\n",
    "с помощью конкатенации строк\n",
    "с помощью указания разделителя в параметре sep метода print"
   ]
  },
  {
   "cell_type": "code",
   "execution_count": 19,
   "id": "a841a2fc",
   "metadata": {},
   "outputs": [
    {
     "name": "stdout",
     "output_type": "stream",
     "text": [
      "Введите первую строку: abc\n",
      "Введите вторую строку: def\n",
      "abc$def\n"
     ]
    }
   ],
   "source": [
    "str1 = input(\"Введите первую строку: \")\n",
    "str2 = input(\"Введите вторую строку: \")\n",
    "\n",
    "print(str1 + \"$\" + str2)"
   ]
  },
  {
   "cell_type": "code",
   "execution_count": 20,
   "id": "0fb28b79",
   "metadata": {},
   "outputs": [
    {
     "name": "stdout",
     "output_type": "stream",
     "text": [
      "Введите первую строку: Hello\n",
      "Введите вторую строку: World\n",
      "Hello$World\n"
     ]
    }
   ],
   "source": [
    "str1 = input(\"Введите первую строку: \")\n",
    "str2 = input(\"Введите вторую строку: \")\n",
    "\n",
    "print(str1, str2, sep=\"$\")"
   ]
  },
  {
   "cell_type": "markdown",
   "id": "ad17ff88",
   "metadata": {},
   "source": [
    "4) Напишите поздравление с Днем рождения, где программа считает имя и возраст и выведет поздравление столько раз, сколько лет именнинику"
   ]
  },
  {
   "cell_type": "code",
   "execution_count": 18,
   "id": "60890c92",
   "metadata": {},
   "outputs": [
    {
     "name": "stdout",
     "output_type": "stream",
     "text": [
      "Введите своё имя: Anastasia\n",
      "Введите свой возраст: 22\n",
      "С Днём Рождения, Anastasia\n",
      "С Днём Рождения, Anastasia\n",
      "С Днём Рождения, Anastasia\n",
      "С Днём Рождения, Anastasia\n",
      "С Днём Рождения, Anastasia\n",
      "С Днём Рождения, Anastasia\n",
      "С Днём Рождения, Anastasia\n",
      "С Днём Рождения, Anastasia\n",
      "С Днём Рождения, Anastasia\n",
      "С Днём Рождения, Anastasia\n",
      "С Днём Рождения, Anastasia\n",
      "С Днём Рождения, Anastasia\n",
      "С Днём Рождения, Anastasia\n",
      "С Днём Рождения, Anastasia\n",
      "С Днём Рождения, Anastasia\n",
      "С Днём Рождения, Anastasia\n",
      "С Днём Рождения, Anastasia\n",
      "С Днём Рождения, Anastasia\n",
      "С Днём Рождения, Anastasia\n",
      "С Днём Рождения, Anastasia\n",
      "С Днём Рождения, Anastasia\n",
      "С Днём Рождения, Anastasia\n",
      "22\n"
     ]
    }
   ],
   "source": [
    "name = input(\"Введите своё имя: \")\n",
    "age = input(\"Введите свой возраст: \")\n",
    "i=0\n",
    "while (i<int(age)):\n",
    "    print(\"С Днём Рождения, \"+name)\n",
    "    i+=1\n",
    "print(i)"
   ]
  },
  {
   "cell_type": "markdown",
   "id": "51b853a3",
   "metadata": {},
   "source": [
    "ДЗ3\n",
    "Задача 1 Какой месяц"
   ]
  },
  {
   "cell_type": "code",
   "execution_count": 1,
   "id": "bf789f0b",
   "metadata": {},
   "outputs": [
    {
     "name": "stdout",
     "output_type": "stream",
     "text": [
      "Feb\n",
      "Jan\n"
     ]
    }
   ],
   "source": [
    "month=1\n",
    "m=['Jan','Feb','Mar','Apr','May','Jun','Jul','Aug','Sep','Oct','Nov','Dec']\n",
    "print(m[month])\n",
    "if (month!=0):\n",
    "    print(m[month-1])"
   ]
  },
  {
   "cell_type": "markdown",
   "id": "0de49d87",
   "metadata": {},
   "source": [
    "Задача 2 Наибольший общий делитель"
   ]
  },
  {
   "cell_type": "code",
   "execution_count": 23,
   "id": "03a7ccc8",
   "metadata": {},
   "outputs": [
    {
     "name": "stdout",
     "output_type": "stream",
     "text": [
      "4\n"
     ]
    }
   ],
   "source": [
    "a=600\n",
    "b=1012\n",
    "i=b%a\n",
    "while (i!=0):\n",
    "    a=i;\n",
    "    i=b%a\n",
    "print(a)"
   ]
  },
  {
   "cell_type": "markdown",
   "id": "f2255136",
   "metadata": {},
   "source": [
    "Задача 3 Проверка расширения файла"
   ]
  },
  {
   "cell_type": "code",
   "execution_count": 34,
   "id": "93a0cf3e",
   "metadata": {},
   "outputs": [
    {
     "name": "stdout",
     "output_type": "stream",
     "text": [
      "{'gif'}\n"
     ]
    }
   ],
   "source": [
    "file='Моя диссертац.gif'\n",
    "extensions = ['png', 'jpg', 'jpeg', 'gif', 'svg']\n",
    "filename, file_extension = file.split('.')\n",
    "\n",
    "if file_extension in extensions:\n",
    "   print({file_extension})\n",
    "else:\n",
    "   print('Problem with extension')"
   ]
  },
  {
   "cell_type": "markdown",
   "id": "64f65cf0",
   "metadata": {},
   "source": [
    "Задача 4 Вискосный Год"
   ]
  },
  {
   "cell_type": "code",
   "execution_count": 36,
   "id": "5d50dd14",
   "metadata": {},
   "outputs": [
    {
     "name": "stdout",
     "output_type": "stream",
     "text": [
      "False\n"
     ]
    }
   ],
   "source": [
    "year=2021\n",
    "if (year % 4 == 0 and year % 100 != 0) or (year % 400 == 0):\n",
    "        print('True')\n",
    "else:\n",
    "        print('False')"
   ]
  },
  {
   "cell_type": "code",
   "execution_count": null,
   "id": "e067c49a",
   "metadata": {},
   "outputs": [],
   "source": []
  }
 ],
 "metadata": {
  "kernelspec": {
   "display_name": "Python 3 (ipykernel)",
   "language": "python",
   "name": "python3"
  },
  "language_info": {
   "codemirror_mode": {
    "name": "ipython",
    "version": 3
   },
   "file_extension": ".py",
   "mimetype": "text/x-python",
   "name": "python",
   "nbconvert_exporter": "python",
   "pygments_lexer": "ipython3",
   "version": "3.9.13"
  }
 },
 "nbformat": 4,
 "nbformat_minor": 5
}
