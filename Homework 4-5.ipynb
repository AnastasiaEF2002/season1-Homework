{
 "cells": [
  {
   "cell_type": "markdown",
   "id": "82bcbf2d",
   "metadata": {},
   "source": [
    "ДЗ4\n",
    "1. Напишите функцию, извлекающую корень n-й степени из числа x. По умолчанию def будет извлекать квадратный корень:"
   ]
  },
  {
   "cell_type": "code",
   "execution_count": 1,
   "id": "969f616a",
   "metadata": {},
   "outputs": [
    {
     "name": "stdout",
     "output_type": "stream",
     "text": [
      "45\n",
      "5\n",
      "2.141127368338324\n"
     ]
    }
   ],
   "source": [
    "def nth_root(x, n=2):\n",
    "  if n == 0:\n",
    "    return None  # Обработка случая, когда степень корня равна нулю.\n",
    "  if x < 0:\n",
    "    return None  # Обработка случая отрицательного x\n",
    "  if x == 0:\n",
    "    return 0\n",
    "\n",
    "  return x**(1/n)\n",
    "\n",
    "x=input()\n",
    "n=input()\n",
    "print(nth_root(int(x),int(n)))"
   ]
  },
  {
   "cell_type": "markdown",
   "id": "b1224d30",
   "metadata": {},
   "source": [
    "2. Перепишите ваш код для проверки расширения из прошлого ДЗ в функцию которая принимает список расширений и имя файла"
   ]
  },
  {
   "cell_type": "code",
   "execution_count": 2,
   "id": "2106ec07",
   "metadata": {},
   "outputs": [
    {
     "name": "stdout",
     "output_type": "stream",
     "text": [
      "Введите имя файла\n",
      "дз.ipynb\n",
      "Расширение файла: ipynb\n"
     ]
    }
   ],
   "source": [
    "def check_file_extension(filename, extensions):\n",
    "    if '.' in filename:\n",
    "        name, file_extension = filename.rsplit('.', 1)\n",
    "    else:\n",
    "        print('Файл не имеет расширения.')\n",
    "        return\n",
    "\n",
    "    if file_extension in extensions:\n",
    "        print(f'Расширение файла: {file_extension}')\n",
    "    else:\n",
    "        print('Проблема с расширением')\n",
    "\n",
    "file = input('Введите имя файла\\n')\n",
    "extensions = ['png', 'jpg', 'jpeg', 'gif', 'svg','txt','ipynb','py']\n",
    "check_file_extension(file, extensions)"
   ]
  },
  {
   "cell_type": "markdown",
   "id": "40f43dd7",
   "metadata": {},
   "source": [
    "3. Слейте воедино три словаря"
   ]
  },
  {
   "cell_type": "code",
   "execution_count": 3,
   "id": "34804817",
   "metadata": {},
   "outputs": [
    {
     "name": "stdout",
     "output_type": "stream",
     "text": [
      "{1: 10, 2: 20, 3: 30, 4: 40, 5: 50, 6: 60}\n"
     ]
    }
   ],
   "source": [
    "dict={}\n",
    "dict_a = {1:10, 2:20}\n",
    "dict_b = {3:30, 4:40}\n",
    "dict_c = {5:50, 6:60}\n",
    "dict.update(dict_a)\n",
    "dict.update(dict_b)\n",
    "dict.update(dict_c)\n",
    "print(dict)"
   ]
  },
  {
   "cell_type": "markdown",
   "id": "2087e310",
   "metadata": {},
   "source": [
    "4. Напишите функцию которая будет складывать цифры внутри числа"
   ]
  },
  {
   "cell_type": "code",
   "execution_count": 4,
   "id": "3b17cc65",
   "metadata": {},
   "outputs": [
    {
     "name": "stdout",
     "output_type": "stream",
     "text": [
      "3456789\n",
      "42\n"
     ]
    }
   ],
   "source": [
    "def sum_digits_math(number):\n",
    " total = 0\n",
    " while abs(number) > 0:\n",
    "    digit = abs(number) % 10\n",
    "    total += digit\n",
    "    number //= 10\n",
    " return total\n",
    "\n",
    "x=input()\n",
    "print(sum_digits_math(int(x)))"
   ]
  },
  {
   "cell_type": "markdown",
   "id": "22c8918a",
   "metadata": {},
   "source": [
    "5. Нужно проверить, все ли числа в последовательности уникальны."
   ]
  },
  {
   "cell_type": "code",
   "execution_count": 5,
   "id": "c41288dd",
   "metadata": {},
   "outputs": [
    {
     "name": "stdout",
     "output_type": "stream",
     "text": [
      "True\n"
     ]
    }
   ],
   "source": [
    "from collections import Counter\n",
    "\n",
    "def uni(numbers):\n",
    "    counts = Counter(numbers)\n",
    "    return all(count == 1 for count in counts.values())\n",
    "\n",
    "numbers=[1,4,5]\n",
    "print(uni(numbers))"
   ]
  },
  {
   "cell_type": "markdown",
   "id": "ed89cc20",
   "metadata": {},
   "source": [
    "6. .Создать функцию, которая просто печатает все элементы заданного ей списка:\n",
    "\n",
    "НОМЕР J --> ЗНАЧЕНИЕ\n",
    "НОМЕР K --> ЗНАЧЕНИЕ\n",
    "J, K — порядковые номера в списке"
   ]
  },
  {
   "cell_type": "code",
   "execution_count": 35,
   "id": "825105d1",
   "metadata": {},
   "outputs": [
    {
     "name": "stdout",
     "output_type": "stream",
     "text": [
      "НОМЕР 0 --> я\n",
      "НОМЕР 1 --> не\n",
      "НОМЕР 2 --> в\n",
      "НОМЕР 3 --> отпуск\n"
     ]
    }
   ],
   "source": [
    "def print_list(my_list):\n",
    "    i = 0\n",
    "    while i < len(my_list):\n",
    "        print(f\"НОМЕР {i} --> {my_list[i]}\")\n",
    "        i += 1\n",
    "\n",
    "print_list([\"я\", \"не\", \"в\", \"отпуск\"])"
   ]
  },
  {
   "cell_type": "markdown",
   "id": "3ca5671e",
   "metadata": {},
   "source": [
    "Создать функцию, которая печатает каждый элемент словарика\n",
    "\n",
    "КЛЮЧ <<J>> --> ЗНАЧЕНИЕ\n",
    "КЛЮЧ <<K>> --> ЗНАЧЕНИЕ\n",
    "J, K — ключи словарика"
   ]
  },
  {
   "cell_type": "code",
   "execution_count": 36,
   "id": "bd68d0fb",
   "metadata": {},
   "outputs": [
    {
     "name": "stdout",
     "output_type": "stream",
     "text": [
      "КЛЮЧ <<key1>> --> 2\n",
      "КЛЮЧ <<key3>> --> False\n",
      "КЛЮЧ <<Приветствие>> --> Hello\n"
     ]
    }
   ],
   "source": [
    "def print_dict(my_dict):\n",
    "    for key, value in my_dict.items():\n",
    "        print(f\"КЛЮЧ <<{key}>> --> {value}\")\n",
    "\n",
    "print_dict({\"key1\": 2, \"key3\": False, \"Приветствие\": \"Hello\"})"
   ]
  },
  {
   "cell_type": "markdown",
   "id": "b4928cc6",
   "metadata": {},
   "source": [
    "Сделать функцию, которая использует две уже написанные функции следующим образом:\n",
    "\n",
    "если ЗНАЧЕНИЕ это LIST --> вызывается print_list\n",
    "если ЗНАЧЕНИЕ это DICT --> вызывается print_dict\n",
    "во всех других случаях просто выводится ЗНАЧЕНИЕ"
   ]
  },
  {
   "cell_type": "code",
   "execution_count": 45,
   "id": "6a0229a4",
   "metadata": {},
   "outputs": [
    {
     "name": "stdout",
     "output_type": "stream",
     "text": [
      "1\n",
      "НОМЕР 0 --> 1\n",
      "НОМЕР 1 --> 2\n",
      "НОМЕР 2 --> 3\n",
      "НОМЕР 3 --> 4\n",
      "Hello\n",
      "{'ciao': 'Mondo', 'Привет': 'О дивный мир'}\n"
     ]
    }
   ],
   "source": [
    "def print_overlord(mydict):\n",
    "    for key, value in mydict.items():\n",
    "        if isinstance(value, list):\n",
    "            print_list(value)\n",
    "        elif type(value) is dict:\n",
    "            print_overlord(value)\n",
    "        else:\n",
    "            print(value)\n",
    "\n",
    "data = {\n",
    "    'key1': 1,\n",
    "    'key2': [1, 2, 3, 4],\n",
    "    'key3': 'Hello',\n",
    "    'key4': {\"ciao\": \"Mondo\", \"Привет\": \"О дивный мир\"}\n",
    "}\n",
    "\n",
    "print_overlord(data)"
   ]
  },
  {
   "cell_type": "markdown",
   "id": "1c65db5c",
   "metadata": {},
   "source": [
    "Задачи со звездочкой\n",
    "1. Сделать функцию, которая на вход получает фразу и печатает все отдельные слова из этой фразы. Операция разбиения строки на составляющие называется токенизацией, это слово нам ещё пригодится в будущем.\n",
    "OUTPUT: Word1 Word2 . . . WordN Number or Words: X"
   ]
  },
  {
   "cell_type": "code",
   "execution_count": 12,
   "id": "e4547323",
   "metadata": {},
   "outputs": [
    {
     "name": "stdout",
     "output_type": "stream",
     "text": [
      "Тут фраза с пробелами и я хочу их распечатать по одному на строку и ещё посчитать слова \n",
      "Number of words: 17\n"
     ]
    }
   ],
   "source": [
    "def word_count(phrase):\n",
    "    words = phrase.split()  # Tokenize the phrase by spaces\n",
    "    word_count = len(words)  # Count the words\n",
    "    \n",
    "    for i, word in enumerate(words):\n",
    "        print(word, end=\" \") # Print each word\n",
    "    print(f\"\\nNumber of words: {word_count}\")\n",
    "\n",
    "\n",
    "word_count(\"Тут фраза с пробелами и я хочу их распечатать по одному на строку и ещё посчитать слова\")"
   ]
  },
  {
   "cell_type": "markdown",
   "id": "c3f71a8c",
   "metadata": {},
   "source": [
    "2. Модифицировать функцию из предыдущего задания так, чтобы она считала \"вес\" каждого слова, выводя в процентное соотношение во фразе для каждого слова. Проценты печатать с точностью до 2 знаков после запятой."
   ]
  },
  {
   "cell_type": "code",
   "execution_count": 13,
   "id": "a4f1537e",
   "metadata": {},
   "outputs": [
    {
     "name": "stdout",
     "output_type": "stream",
     "text": [
      "Тут: 11.11%\n",
      "фраза: 5.56%\n",
      "с: 5.56%\n",
      "пробелами: 5.56%\n",
      "и: 11.11%\n",
      "я: 5.56%\n",
      "хочу: 5.56%\n",
      "их: 5.56%\n",
      "распечатать: 5.56%\n",
      "по: 5.56%\n",
      "одному: 5.56%\n",
      "на: 5.56%\n",
      "строку: 5.56%\n",
      "ещё: 5.56%\n",
      "посчитать: 5.56%\n",
      "слова: 5.56%\n"
     ]
    }
   ],
   "source": [
    "def word_count_weighted(phrase):\n",
    "    words = phrase.split()\n",
    "    total_words = len(words)\n",
    "    word_weights = {}\n",
    "\n",
    "    for word in words:\n",
    "        word_weights[word] = word_weights.get(word, 0) + 1\n",
    "\n",
    "    for word, count in word_weights.items():\n",
    "        percentage = (count / total_words) * 100\n",
    "        print(f\"{word}: {percentage:.2f}%\")\n",
    "\n",
    "word_count_weighted(\"Тут фраза с пробелами и я хочу их распечатать по одному на строку и ещё посчитать слова Тут\")"
   ]
  },
  {
   "cell_type": "markdown",
   "id": "0d1b027a",
   "metadata": {},
   "source": [
    "ДЗ5\n",
    "1. Средний бал и список отстающих учеников"
   ]
  },
  {
   "cell_type": "code",
   "execution_count": 14,
   "id": "6831d7b6",
   "metadata": {},
   "outputs": [
    {
     "name": "stdout",
     "output_type": "stream",
     "text": [
      "Средний бал: 3.18\n",
      "Список отстающих учеников: Дмитриев Н., Котов Д., Бирюкова Н., Лемонов Ю.\n"
     ]
    }
   ],
   "source": [
    "grades = {\n",
    "    \"Иванов О.\": 4,\n",
    "    \"Петров И.\": 3,\n",
    "    \"Дмитриев Н.\": 2,\n",
    "    \"Смирнова О.\": 4,\n",
    "    \"Керченских В.\": 5,\n",
    "    \"Котов Д.\": 2,\n",
    "    \"Бирюкова Н.\": 1,\n",
    "    \"Данилов П.\": 3,\n",
    "    \"Аранских В.\": 5,\n",
    "    \"Лемонов Ю.\": 2,\n",
    "    \"Олегова К.\": 4\n",
    "}\n",
    "\n",
    "total_grade = sum(grades.values())\n",
    "average_grade = total_grade / len(grades)\n",
    "\n",
    "failing_students = [student for student, grade in grades.items() if grade < 3]\n",
    "\n",
    "print(f\"Средний бал: {average_grade:.2f}\")\n",
    "print(f\"Список отстающих учеников: {', '.join(failing_students)}\")"
   ]
  },
  {
   "cell_type": "markdown",
   "id": "40882a5f",
   "metadata": {},
   "source": [
    "2. Посчитать количество определенных слов в файле"
   ]
  },
  {
   "cell_type": "code",
   "execution_count": 15,
   "id": "382a44a7",
   "metadata": {},
   "outputs": [
    {
     "name": "stdout",
     "output_type": "stream",
     "text": [
      "Лекций: 2\n",
      "Практических: 2\n",
      "Лабораторных: 1\n"
     ]
    }
   ],
   "source": [
    "with open(r'C:\\Users\\anast\\Desktop\\fr.txt', 'r', encoding='utf-8') as file:\n",
    "    content = file.read()\n",
    "\n",
    "lec = content.count('лекц.')\n",
    "pract = content.count('практ.')\n",
    "lab = content.count('лаб.')\n",
    "\n",
    "print('Лекций:', lec)\n",
    "print('Практических:', pract)\n",
    "print('Лабораторных:', lab)"
   ]
  },
  {
   "cell_type": "markdown",
   "id": "deb9b697",
   "metadata": {},
   "source": [
    "4. Выведите список файлов в указанной директории"
   ]
  },
  {
   "cell_type": "code",
   "execution_count": 18,
   "id": "37d2e6fe",
   "metadata": {},
   "outputs": [
    {
     "name": "stdout",
     "output_type": "stream",
     "text": [
      "Список файлов в директории: ['-5328113196948645462_121.jpg', '123.lgp', 'AB_DZ_3_Komanda_2 (2).pptx', 'AB_DZ_3_Komanda_2 (3).pptx', 'AB_DZ_3_Komanda_2.pptx', 'Borodich_Ekonometrika_RuLit_Me_683626.pdf', 'image_2024-10-18_11-46-04.png', 'image_2024-10-29_18-26-15.png', 'image_2024-11-08_12-47-54.png', 'image_2024-11-08_12-53-33.png', 'image_2024-11-09_22-24-06.png', 'photo_10_2024-10-08_14-58-41.jpg', 'photo_11_2024-10-08_14-58-41.jpg', 'photo_1_2024-10-08_14-54-06.jpg', 'photo_1_2024-10-08_14-58-41.jpg', 'photo_2_2024-10-08_14-54-06.jpg', 'photo_2_2024-10-08_14-58-41.jpg', 'photo_3_2024-10-08_14-54-06.jpg', 'photo_3_2024-10-08_14-58-41.jpg', 'photo_4_2024-10-08_14-54-06.jpg', 'photo_4_2024-10-08_14-58-41.jpg', 'photo_5_2024-10-08_14-58-41.jpg', 'photo_6_2024-10-08_14-58-41.jpg', 'photo_7_2024-10-08_14-58-41.jpg', 'photo_8_2024-10-08_14-58-41.jpg', 'photo_9_2024-10-08_14-58-41.jpg', 'presentation_MISIS_ПП (1).pptx', 'SQL_Examples_Query.docx', 'Starovoytov_Normalizatsiya.pdf', 'АБ_ДЗ№3_Команда 2.pptx', 'АБ_ДЗ№4_Команда 2 (2).pptx', 'АБ_ДЗ№4_Команда 2 (3).pptx', 'АБ_ДЗ№4_Команда 2 .pptx', 'АБ_ДЗ№4_Команда 2.pptx', 'АБ_ДЗ№5_Команда_12_Стратегия_развития_ИТ_OZON.pdf', 'Балицкий_Excel_СР2_3_Формулы_и_функции.xlsx', 'Балицкий_Excel_СР4.Сводные таблицы.xlsx', 'Все банки ЕМ.xlsx', 'Группа 1 - Москвич - ПР№2 (1).pdf', 'Группа 13 - Эволют ПР№2.pdf', 'Группа 7 - УГМК - ПР№2.pdf', 'Группа 9 - Сургутнефтегаз - ПР№2.pdf', 'Группа_5_АО_Лазерные_системы_ПР№2.pdf', 'Документ 15.pdf', 'Документ 17.pdf', 'Дрейпер_Н_,_Смит_Г_Прикладной_регрессионный_анализ.djvu', 'Егорова_Excel_ЛР2-3 (1) (1).xlsx', 'Егорова_Excel_ЛР4_Сводные_таблицы_1.xlsx', 'Егорова_Excel_ЛР5 (1).xlsx', 'Егорова_Excel_СР4_Сводные_таблицы_1.xlsx', 'Егорова_Excel_СР5 (1).xlsx', 'Задание на самостоятельную.docx', 'Задача.xlsx', 'Команда 11.pdf', 'КР1_исходные данные к примеру.xlsx', 'Метрики эффективности.pptx', 'МШ ИБС_Лекции_Спецглавы.pptx', 'МШ_ИБС_ОБРАЗЕЦ_Ходатайство_перевод_на_гибкий_график.docx', 'МШИБС_расписание_2024_2025_1сем_нед1_v1.xlsx', 'Нова напр и тех 15.docx', 'Продажа автомобилей (2).bpm', 'Продажа автомобилей.bpm', 'Производство мебели (2).bpm', 'Производство мебели (3).bpm', 'Производство мебели (4).bpm', 'Производство мебели (5).bpm', 'Производство мебели.bpm', 'ПР№2_Команда_6.pdf', 'Разработка_функциональных_требований_к_компонентам_КИС.docx', 'Семинар_1_Недвижимость_Исходник.xlsx', 'СИЦП_Оценки_за_практическую_работу_№2.pdf', 'Снимок экрана 2024-11-12 в 19.06.46.png', 'Спец главы МИСИС 24_25 ДЗ данные.xlsx', 'СпецГлМат_ДЗ_1_Мырзабек_Бекдаулет (2).xlsx', 'СпецГлМат_ДЗ_1_Мырзабек_Бекдаулет (3).xlsx', 'СпецГлМат_ДЗ_1_Мырзабек_Бекдаулет.docx', 'СпецГлМат_ДЗ_1_Мырзабек_Бекдаулет.xlsx', 'Статьи.rar', 'текст к защите.docx', 'Тест_по_нотации_BPMN_просмотр_попытки (2).pdf', 'Тест_по_нотации_BPMN_просмотр_попытки (3).pdf', 'Тест_по_нотации_BPMN_просмотр_попытки.pdf', 'Формирование_требований_к_продукту_или_сервису_OZON.pdf']\n"
     ]
    }
   ],
   "source": [
    "import os\n",
    "\n",
    "directory_path = r'C:\\Users\\anast\\Downloads\\Telegram Desktop'\n",
    "\n",
    "files = os.listdir(directory_path)\n",
    "\n",
    "files = [f for f in files if os.path.isfile(os.path.join(directory_path, f))]\n",
    "\n",
    "print(\"Список файлов в директории:\", files)"
   ]
  },
  {
   "cell_type": "markdown",
   "id": "3ef50bda",
   "metadata": {},
   "source": [
    "5. Напишите программу, которая принимает текст и выводит два слова: наиболее часто встречающееся и самое длинное."
   ]
  },
  {
   "cell_type": "code",
   "execution_count": 19,
   "id": "39bdf071",
   "metadata": {},
   "outputs": [
    {
     "name": "stdout",
     "output_type": "stream",
     "text": [
      "Наиболее часто встречающееся слово: 'и' (встречается 8 раз)\n",
      "Самое длинное слово: 'храброславленный'\n"
     ]
    }
   ],
   "source": [
    "from collections import Counter\n",
    "import re\n",
    "\n",
    "text = \"\"\"\n",
    "Варкалось. Хливкие шорьки Пырялись по наве, И хрюкотали зелюки, Как мюмзики в мове.\n",
    "\n",
    "О, бойся Бармаглота, сын! Он так свирлеп и дик! А в глу́ше ры́мит исполин — Злопастный Брандашмыг!\n",
    "\n",
    "Но взял он меч, и взял он щит, Высоких полон дум. В глущобу путь его лежит Под дерево Тумтум.\n",
    "\n",
    "Он стал под дерево и ждёт. И вдруг граахнул гром — Летит ужасный Бармаглот И пылкает огнём!\n",
    "\n",
    "Раз-два, раз-два! Горит трава, Взы-взы — стрижает меч, Ува! Ува! И голова Барабардает с плеч!\n",
    "\n",
    "О светозарный мальчик мой! Ты победил в бою! О храброславленный герой, Хвалу тебе пою!\n",
    "\n",
    "Варкалось. Хливкие шорьки Пырялись по наве. И хрюкотали зелюки, Как мюмзики в мове.\n",
    "\"\"\"\n",
    "\n",
    "words = re.findall(r'\\b\\w+\\b', text.lower())\n",
    "\n",
    "# Находим наиболее часто встречающееся слово\n",
    "word_counts = Counter(words)\n",
    "most_common_word, most_common_count = word_counts.most_common(1)[0]\n",
    "\n",
    "longest_word = max(words, key=len)\n",
    "\n",
    "print(f\"Наиболее часто встречающееся слово: '{most_common_word}' (встречается {most_common_count} раз)\")\n",
    "print(f\"Самое длинное слово: '{longest_word}'\")"
   ]
  },
  {
   "cell_type": "code",
   "execution_count": null,
   "id": "8ec85bd3",
   "metadata": {},
   "outputs": [],
   "source": []
  }
 ],
 "metadata": {
  "kernelspec": {
   "display_name": "Python 3 (ipykernel)",
   "language": "python",
   "name": "python3"
  },
  "language_info": {
   "codemirror_mode": {
    "name": "ipython",
    "version": 3
   },
   "file_extension": ".py",
   "mimetype": "text/x-python",
   "name": "python",
   "nbconvert_exporter": "python",
   "pygments_lexer": "ipython3",
   "version": "3.9.13"
  }
 },
 "nbformat": 4,
 "nbformat_minor": 5
}
