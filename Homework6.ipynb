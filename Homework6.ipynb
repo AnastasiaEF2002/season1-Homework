{
 "cells": [
  {
   "cell_type": "markdown",
   "id": "30dc1b0a",
   "metadata": {},
   "source": [
    "ДЗ6\n",
    "\n",
    "Задача 1. Напишите программу с классом Student, в котором есть три атрибута: name, groupNumber и age. По умолчанию name = Ivan, age = 18, groupNumber = 10A. Необходимо создать пять методов: getName, getAge, getGroupNumber, setNameAge, setGroupNumber. Метод getName нужен для получения данных об имени конкретного студента, метод getAge нужен для получения данных о возрасте конкретного студента, vетод setGroupNumberнужен для получения данных о номере группы конкретного студента. Метод SetNameAge позволяет изменить данные атрибутов установленных по умолчанию, метод setGroupNumber позволяет изменить номер группы установленный по умолчанию. В программе необходимо создать пять экземпляров класса Student, установить им разные имена, возраст и номер группы."
   ]
  },
  {
   "cell_type": "code",
   "execution_count": 1,
   "id": "3cb1188a",
   "metadata": {},
   "outputs": [
    {
     "name": "stdout",
     "output_type": "stream",
     "text": [
      "Student 1: Name - Petr, Age - 21, Group - 10D\n",
      "Student 2: Name - Maria, Age - 20, Group - 10B\n",
      "Student 3: Name - Alex, Age - 19, Group - 10C\n",
      "Student 4: Name - Olga, Age - 18, Group - 11A\n",
      "Student 5: Name - Dmitry, Age - 22, Group - 11B\n"
     ]
    }
   ],
   "source": [
    "class Student:\n",
    "    def __init__(self, name=\"Ivan\", age=18, groupNumber=\"10A\"):\n",
    "        self.name = name\n",
    "        self.age = age\n",
    "        self.groupNumber = groupNumber\n",
    "\n",
    "    def getName(self):\n",
    "        return self.name\n",
    "\n",
    "    def getAge(self):\n",
    "        return self.age\n",
    "\n",
    "    def getGroupNumber(self):\n",
    "        return self.groupNumber\n",
    "\n",
    "    def setNameAge(self, new_name, new_age):\n",
    "        self.name = new_name\n",
    "        self.age = new_age\n",
    "\n",
    "    def setGroupNumber(self, new_groupNumber):\n",
    "        self.groupNumber = new_groupNumber\n",
    "\n",
    "\n",
    "student1 = Student()\n",
    "student2 = Student(\"Maria\", 20, \"10B\")\n",
    "student3 = Student(\"Alex\", 19, \"10C\")\n",
    "student4 = Student(\"Olga\", 18, \"11A\")\n",
    "student5 = Student(\"Dmitry\", 22, \"11B\")\n",
    "\n",
    "student1.setNameAge(\"Petr\", 21)\n",
    "student1.setGroupNumber(\"10D\")\n",
    "\n",
    "print(f\"Student 1: Name - {student1.getName()}, Age - {student1.getAge()}, Group - {student1.getGroupNumber()}\")\n",
    "print(f\"Student 2: Name - {student2.getName()}, Age - {student2.getAge()}, Group - {student2.getGroupNumber()}\")\n",
    "print(f\"Student 3: Name - {student3.getName()}, Age - {student3.getAge()}, Group - {student3.getGroupNumber()}\")\n",
    "print(f\"Student 4: Name - {student4.getName()}, Age - {student4.getAge()}, Group - {student4.getGroupNumber()}\")\n",
    "print(f\"Student 5: Name - {student5.getName()}, Age - {student5.getAge()}, Group - {student5.getGroupNumber()}\")"
   ]
  },
  {
   "cell_type": "markdown",
   "id": "21627180",
   "metadata": {},
   "source": [
    "Задача 2. Напишите программу с классом Car. Создайте конструктор класса Car. Создайте атрибуты класса Car — color (цвет), type (тип), year (год). Напишите пять методов. Первый — запуск автомобиля, при его вызове выводится сообщение «Автомобиль заведен». Второй — отключение автомобиля — выводит сообщение «Автомобиль заглушен». Третий — присвоение автомобилю года выпуска. Четвертый метод — присвоение автомобилю типа. Пятый — присвоение автомобилю цвета."
   ]
  },
  {
   "cell_type": "code",
   "execution_count": 2,
   "id": "36a4972e",
   "metadata": {},
   "outputs": [
    {
     "name": "stdout",
     "output_type": "stream",
     "text": [
      "Цвет: белый, Тип: седан, Год: 2023\n",
      "Автомобиль заведен\n",
      "Цвет: красный, Тип: седан, Год: 2021\n",
      "Автомобиль заглушен\n",
      "Автомобиль заведен\n",
      "Цвет: синий, Тип: внедорожник, Год: 2020\n",
      "Автомобиль заглушен\n"
     ]
    }
   ],
   "source": [
    "class Car:\n",
    "    def __init__(self, color=\"белый\", type=\"седан\", year=2023):  \n",
    "        self.color = color\n",
    "        self.type = type\n",
    "        self.year = year\n",
    "        self.is_started = False \n",
    "\n",
    "    def start(self):\n",
    "        \"\"\"Starts the car.\"\"\"\n",
    "        if not self.is_started:\n",
    "            self.is_started = True\n",
    "            print(\"Автомобиль заведен\")\n",
    "        else:\n",
    "            print(\"Автомобиль уже заведен\")\n",
    "\n",
    "    def stop(self):\n",
    "        \"\"\"Stops the car.\"\"\"\n",
    "        if self.is_started:\n",
    "            self.is_started = False\n",
    "            print(\"Автомобиль заглушен\")\n",
    "        else:\n",
    "            print(\"Автомобиль уже заглушен\")\n",
    "\n",
    "\n",
    "    def setYear(self, year):\n",
    "        \"\"\"Sets the car's year of manufacture.\"\"\"\n",
    "        if isinstance(year, int) and year > 0: \n",
    "            self.year = year\n",
    "        else:\n",
    "            print(\"Некорректный год выпуска.\")\n",
    "\n",
    "    def setType(self, type):\n",
    "        \"\"\"Sets the car's type.\"\"\"\n",
    "        if isinstance(type, str) and type.strip(): \n",
    "            self.type = type\n",
    "        else:\n",
    "            print(\"Некорректный тип автомобиля.\")\n",
    "\n",
    "    def setColor(self, color):\n",
    "        \"\"\"Sets the car's color.\"\"\"\n",
    "        if isinstance(color, str) and color.strip(): \n",
    "            self.color = color\n",
    "        else:\n",
    "            print(\"Некорректный цвет автомобиля.\")\n",
    "\n",
    "my_car = Car()\n",
    "print(f\"Цвет: {my_car.color}, Тип: {my_car.type}, Год: {my_car.year}\")\n",
    "\n",
    "my_car.start()\n",
    "my_car.setYear(2021)\n",
    "my_car.setType(\"седан\")\n",
    "my_car.setColor(\"красный\")\n",
    "print(f\"Цвет: {my_car.color}, Тип: {my_car.type}, Год: {my_car.year}\")\n",
    "my_car.stop()\n",
    "\n",
    "another_car = Car(\"синий\", \"внедорожник\", 2020)\n",
    "another_car.start()\n",
    "print(f\"Цвет: {another_car.color}, Тип: {another_car.type}, Год: {another_car.year}\")\n",
    "another_car.stop()"
   ]
  },
  {
   "cell_type": "markdown",
   "id": "7ead9ddb",
   "metadata": {},
   "source": [
    "Задача 3. Допишите функцию Nutrion"
   ]
  },
  {
   "cell_type": "code",
   "execution_count": 4,
   "id": "b6358a9e",
   "metadata": {},
   "outputs": [
    {
     "name": "stdout",
     "output_type": "stream",
     "text": [
      "Nutrition p 2, c 4, f 6\n",
      "79\n",
      "Error: Cannot add non-NutritionInfo object\n"
     ]
    }
   ],
   "source": [
    "class NutritionInfo:\n",
    "    def __init__(self, proteins, carbs, fats):\n",
    "        self.proteins = proteins\n",
    "        self.carbs = carbs\n",
    "        self.fats = fats\n",
    "    \n",
    "    def __add__(self, other):\n",
    "        if not isinstance(other, NutritionInfo):\n",
    "            raise TypeError(\"Cannot add non-NutritionInfo object\")\n",
    "        return NutritionInfo(self.proteins + other.proteins, self.carbs + other.carbs, self.fats + other.fats)\n",
    "    \n",
    "    def __str__(self):\n",
    "        return f\"Nutrition p {self.proteins}, c {self.carbs}, f {self.fats}\"\n",
    "        \n",
    "    def energy(self):\n",
    "        return int(self.fats * 9 + (self.carbs + self.proteins) * 4.2)\n",
    "    \n",
    "egg = NutritionInfo(1, 2, 3)\n",
    "pastila = NutritionInfo(1, 2, 3)\n",
    "tvorog_9 = NutritionInfo(18, 3, 9)\n",
    "apple = NutritionInfo(0, 25, 0)\n",
    "\n",
    "try:\n",
    "    result = egg + pastila\n",
    "    print(result)\n",
    "    print(result.energy())\n",
    "    \n",
    "    result2 = egg + 10\n",
    "except TypeError as e:\n",
    "    print(f\"Error: {e}\")"
   ]
  },
  {
   "cell_type": "code",
   "execution_count": null,
   "id": "4d0b160d",
   "metadata": {},
   "outputs": [],
   "source": []
  }
 ],
 "metadata": {
  "kernelspec": {
   "display_name": "Python 3 (ipykernel)",
   "language": "python",
   "name": "python3"
  },
  "language_info": {
   "codemirror_mode": {
    "name": "ipython",
    "version": 3
   },
   "file_extension": ".py",
   "mimetype": "text/x-python",
   "name": "python",
   "nbconvert_exporter": "python",
   "pygments_lexer": "ipython3",
   "version": "3.9.13"
  }
 },
 "nbformat": 4,
 "nbformat_minor": 5
}
